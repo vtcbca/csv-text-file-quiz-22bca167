{
 "cells": [
  {
   "cell_type": "code",
   "execution_count": 9,
   "id": "bb0ecdce-72d2-40a4-918a-88cd2a21e541",
   "metadata": {},
   "outputs": [],
   "source": [
    "import csv"
   ]
  },
  {
   "cell_type": "code",
   "execution_count": 10,
   "id": "210c6d31-482f-4da3-b537-8c502b5d4978",
   "metadata": {},
   "outputs": [],
   "source": [
    "file = open(\"intro.txt\",'w',encoding='utf-8',newline='')"
   ]
  },
  {
   "cell_type": "code",
   "execution_count": 11,
   "id": "03a43046-1fe7-4ce2-9045-907cd0a920ae",
   "metadata": {},
   "outputs": [],
   "source": [
    "l=[['My Name:sujan atulbhai Patel'],\n",
    "   ['My Father Name:atulbhai mahendrabhai Patel'],\n",
    "   ['My Mother Name:falguniBen atulbhaiKumar Patel'],\n",
    "   ['My favorite Game:Cricket'],\n",
    "   ['My favorite Place:kashmir']]"
   ]
  },
  {
   "cell_type": "code",
   "execution_count": 12,
   "id": "071dcb36-fba8-4b45-a949-1c4cc9bb6809",
   "metadata": {},
   "outputs": [],
   "source": [
    "w=csv.writer(file)"
   ]
  },
  {
   "cell_type": "code",
   "execution_count": 13,
   "id": "05fef9f5-63b9-43a1-adcd-de3c487bd248",
   "metadata": {},
   "outputs": [],
   "source": [
    "w.writerows(l)"
   ]
  },
  {
   "cell_type": "code",
   "execution_count": 15,
   "id": "ace7013a",
   "metadata": {},
   "outputs": [],
   "source": [
    "file.close()"
   ]
  },
  {
   "cell_type": "code",
   "execution_count": null,
   "id": "974b6d75",
   "metadata": {},
   "outputs": [],
   "source": []
  }
 ],
 "metadata": {
  "kernelspec": {
   "display_name": "Python 3 (ipykernel)",
   "language": "python",
   "name": "python3"
  },
  "language_info": {
   "codemirror_mode": {
    "name": "ipython",
    "version": 3
   },
   "file_extension": ".py",
   "mimetype": "text/x-python",
   "name": "python",
   "nbconvert_exporter": "python",
   "pygments_lexer": "ipython3",
   "version": "3.11.4"
  }
 },
 "nbformat": 4,
 "nbformat_minor": 5
}
